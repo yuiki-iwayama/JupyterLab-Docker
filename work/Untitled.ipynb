{
 "cells": [
  {
   "cell_type": "code",
   "execution_count": null,
   "id": "55500cdb-cd97-4781-ba8b-14095ed32e48",
   "metadata": {},
   "outputs": [],
   "source": [
    "%load_ext sql\n",
    "dsl = 'postgres://postgres:test@db:5432/test'\n",
    "%sql $dsl"
   ]
  }
 ],
 "metadata": {
  "kernelspec": {
   "display_name": "Python 3 (ipykernel)",
   "language": "python",
   "name": "python3"
  },
  "language_info": {
   "codemirror_mode": {
    "name": "ipython",
    "version": 3
   },
   "file_extension": ".py",
   "mimetype": "text/x-python",
   "name": "python",
   "nbconvert_exporter": "python",
   "pygments_lexer": "ipython3",
   "version": "3.9.6"
  }
 },
 "nbformat": 4,
 "nbformat_minor": 5
}
